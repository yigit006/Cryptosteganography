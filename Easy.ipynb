{
 "cells": [
  {
   "cell_type": "markdown",
   "id": "333f3b1f",
   "metadata": {},
   "source": [
    "# 🧊 LSB Steganography – Message Hiding (Easy Level - English)"
   ]
  },
  {
   "cell_type": "code",
   "execution_count": 1,
   "id": "094bb147",
   "metadata": {},
   "outputs": [],
   "source": [
    "from PIL import Image\n",
    "\n",
    "def hide_message(image_path, message, output_name=\"A_encoded_easy.png\"):\n",
    "    img = Image.open(image_path)\n",
    "    if img.mode != 'RGB':\n",
    "        img = img.convert('RGB')\n",
    "    encoded = img.copy()\n",
    "    binary_msg = ''.join(format(b, '08b') for b in message.encode('utf-8')) + '1111111111111111'\n",
    "    data_idx = 0\n",
    "    for y in range(encoded.size[1]):\n",
    "        for x in range(encoded.size[0]):\n",
    "            r, g, b = encoded.getpixel((x, y))\n",
    "            rgb = [r, g, b]\n",
    "            for i in range(3):\n",
    "                if data_idx < len(binary_msg):\n",
    "                    rgb[i] = (rgb[i] & ~1) | int(binary_msg[data_idx])\n",
    "                    data_idx += 1\n",
    "            encoded.putpixel((x, y), tuple(rgb))\n",
    "            if data_idx >= len(binary_msg):\n",
    "                encoded.save(output_name)\n",
    "                print(f\"[✓] Message successfully hidden in: {output_name}\")\n",
    "                return"
   ]
  },
  {
   "cell_type": "code",
   "execution_count": null,
   "id": "098da178",
   "metadata": {},
   "outputs": [],
   "source": [
    "# Example usage\n",
    "message = \"Bybit attack has been initiated.\"\n",
    "hide_message(\"A.png\", message)"
   ]
  },
  {
   "cell_type": "markdown",
   "id": "941e76e9",
   "metadata": {},
   "source": [
    "# 🧊 LSB Steganography – Message Extraction (Easy Level - English)"
   ]
  },
  {
   "cell_type": "code",
   "execution_count": 3,
   "id": "7edab1fc",
   "metadata": {},
   "outputs": [],
   "source": [
    "from PIL import Image\n",
    "\n",
    "def reveal_message(image_path):\n",
    "    img = Image.open(image_path)\n",
    "    if img.mode != 'RGB':\n",
    "        img = img.convert('RGB')\n",
    "    binary_data = \"\"\n",
    "    for y in range(img.size[1]):\n",
    "        for x in range(img.size[0]):\n",
    "            for color in img.getpixel((x, y)):\n",
    "                binary_data += str(color & 1)\n",
    "    byte_data = []\n",
    "    for i in range(0, len(binary_data), 8):\n",
    "        byte = binary_data[i:i+8]\n",
    "        if byte == '11111111' and binary_data[i+8:i+16] == '11111111':\n",
    "            break\n",
    "        byte_data.append(int(byte, 2))\n",
    "    try:\n",
    "        return bytes(byte_data).decode('utf-8')\n",
    "    except UnicodeDecodeError:\n",
    "        return \"[❌] Decoded data contains invalid characters.\""
   ]
  },
  {
   "cell_type": "code",
   "execution_count": null,
   "id": "594b23d1",
   "metadata": {},
   "outputs": [],
   "source": [
    "# Example usage\n",
    "print(reveal_message(\"A_encoded_easy.png\"))"
   ]
  }
 ],
 "metadata": {
  "kernelspec": {
   "display_name": "Python 3",
   "language": "python",
   "name": "python3"
  },
  "language_info": {
   "codemirror_mode": {
    "name": "ipython",
    "version": 3
   },
   "file_extension": ".py",
   "mimetype": "text/x-python",
   "name": "python",
   "nbconvert_exporter": "python",
   "pygments_lexer": "ipython3",
   "version": "3.13.3"
  }
 },
 "nbformat": 4,
 "nbformat_minor": 5
}
