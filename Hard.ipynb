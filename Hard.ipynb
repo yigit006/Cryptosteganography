{
 "cells": [
  {
   "cell_type": "markdown",
   "id": "6f4d658f",
   "metadata": {},
   "source": [
    "# 🔒 AES + LSB Steganography – Message Hiding (Hard Level - English)"
   ]
  },
  {
   "cell_type": "code",
   "execution_count": 1,
   "id": "7e7ce90b",
   "metadata": {},
   "outputs": [],
   "source": [
    "from PIL import Image\n",
    "from Crypto.Cipher import AES\n",
    "from Crypto.Random import get_random_bytes\n",
    "\n",
    "def aes_encrypt(message):\n",
    "    key = get_random_bytes(32)\n",
    "    iv = get_random_bytes(12)\n",
    "    cipher = AES.new(key, AES.MODE_GCM, nonce=iv)\n",
    "    ciphertext, tag = cipher.encrypt_and_digest(message.encode('utf-8'))\n",
    "    encrypted_data = iv + tag + ciphertext\n",
    "    return key, encrypted_data\n",
    "\n",
    "def hide_aes_data(image_path, data, output_name=\"C_encoded_aes.png\"):\n",
    "    binary_data = ''.join(format(b, '08b') for b in data) + '1111111111111111'\n",
    "    img = Image.open(image_path)\n",
    "    if img.mode != 'RGB':\n",
    "        img = img.convert('RGB')\n",
    "    encoded = img.copy()\n",
    "    data_idx = 0\n",
    "    for y in range(encoded.size[1]):\n",
    "        for x in range(encoded.size[0]):\n",
    "            r, g, b = encoded.getpixel((x, y))\n",
    "            rgb = [r, g, b]\n",
    "            for i in range(3):\n",
    "                if data_idx < len(binary_data):\n",
    "                    rgb[i] = (rgb[i] & ~1) | int(binary_data[data_idx])\n",
    "                    data_idx += 1\n",
    "            encoded.putpixel((x, y), tuple(rgb))\n",
    "            if data_idx >= len(binary_data):\n",
    "                encoded.save(output_name)\n",
    "                print(f\"[✓] Encrypted message successfully hidden in: {output_name}\")\n",
    "                return"
   ]
  },
  {
   "cell_type": "code",
   "execution_count": null,
   "id": "52182f93",
   "metadata": {},
   "outputs": [],
   "source": [
    "# Example usage\n",
    "message = \"Bybit attack has been initiated.\"\n",
    "key, encrypted = aes_encrypt(message)\n",
    "hide_aes_data(\"C.png\", encrypted)\n",
    "print(\"AES key (hex):\", key.hex())"
   ]
  },
  {
   "cell_type": "markdown",
   "id": "68720f7d",
   "metadata": {},
   "source": [
    "# 🔓 AES + LSB Steganography – Message Revealing (Hard Level - English)"
   ]
  },
  {
   "cell_type": "code",
   "execution_count": 3,
   "id": "16d22d6c",
   "metadata": {},
   "outputs": [],
   "source": [
    "from PIL import Image\n",
    "from Crypto.Cipher import AES\n",
    "\n",
    "def reveal_aes_data(image_path, key_hex):\n",
    "    key = bytes.fromhex(key_hex)\n",
    "    img = Image.open(image_path)\n",
    "    if img.mode != 'RGB':\n",
    "        img = img.convert('RGB')\n",
    "    binary_data = \"\"\n",
    "    for y in range(img.size[1]):\n",
    "        for x in range(img.size[0]):\n",
    "            for color in img.getpixel((x, y)):\n",
    "                binary_data += str(color & 1)\n",
    "    byte_data = []\n",
    "    for i in range(0, len(binary_data), 8):\n",
    "        byte = binary_data[i:i+8]\n",
    "        if byte == '11111111' and binary_data[i+8:i+16] == '11111111':\n",
    "            break\n",
    "        byte_data.append(int(byte, 2))\n",
    "    data = bytes(byte_data)\n",
    "    iv, tag, ciphertext = data[:12], data[12:28], data[28:]\n",
    "    cipher = AES.new(key, AES.MODE_GCM, nonce=iv)\n",
    "    try:\n",
    "        return cipher.decrypt_and_verify(ciphertext, tag).decode('utf-8')\n",
    "    except Exception:\n",
    "        return \"[❌] Incorrect key or corrupted data.\""
   ]
  },
  {
   "cell_type": "code",
   "execution_count": null,
   "id": "52c2d5d4",
   "metadata": {},
   "outputs": [],
   "source": [
    "print(reveal_aes_data(\"C_encoded_aes.png\", \"516b98222ab435542273e10f17a9f6c8105358abd75e7bc0e3d02d21b31207b0\"))"
   ]
  },
  {
   "cell_type": "code",
   "execution_count": null,
   "id": "56f72b91",
   "metadata": {},
   "outputs": [],
   "source": [
    "# Example usage\n",
    "# print(reveal_aes_data(\"C_encoded_aes.png\", \"your_hex_key_here\"))"
   ]
  }
 ],
 "metadata": {
  "kernelspec": {
   "display_name": "Python 3",
   "language": "python",
   "name": "python3"
  },
  "language_info": {
   "codemirror_mode": {
    "name": "ipython",
    "version": 3
   },
   "file_extension": ".py",
   "mimetype": "text/x-python",
   "name": "python",
   "nbconvert_exporter": "python",
   "pygments_lexer": "ipython3",
   "version": "3.13.3"
  }
 },
 "nbformat": 4,
 "nbformat_minor": 5
}
