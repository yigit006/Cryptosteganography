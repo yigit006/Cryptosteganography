{
 "cells": [
  {
   "cell_type": "markdown",
   "id": "243076f1",
   "metadata": {},
   "source": [
    "# 🧊 LSB Steganografi – Mesaj Gizleme (Kolay Seviye)"
   ]
  },
  {
   "cell_type": "code",
   "execution_count": 5,
   "id": "0a9bb198",
   "metadata": {},
   "outputs": [],
   "source": [
    "from PIL import Image\n",
    "\n",
    "def mesajı_gizle(gorsel_yolu, mesaj, kayit_adi=\"A_encoded_easy.png\"):\n",
    "    img = Image.open(gorsel_yolu)\n",
    "    if img.mode != 'RGB':\n",
    "        img = img.convert('RGB')\n",
    "    encoded = img.copy()\n",
    "    binary_mesaj = ''.join(format(b, '08b') for b in mesaj.encode('utf-8')) + '1111111111111111'\n",
    "    data_idx = 0\n",
    "    for y in range(encoded.size[1]):\n",
    "        for x in range(encoded.size[0]):\n",
    "            r, g, b = encoded.getpixel((x, y))\n",
    "            rgb = [r, g, b]\n",
    "            for i in range(3):\n",
    "                if data_idx < len(binary_mesaj):\n",
    "                    rgb[i] = (rgb[i] & ~1) | int(binary_mesaj[data_idx])\n",
    "                    data_idx += 1\n",
    "            encoded.putpixel((x, y), tuple(rgb))\n",
    "            if data_idx >= len(binary_mesaj):\n",
    "                encoded.save(kayit_adi)\n",
    "                print(f\"[✓] Mesaj başarıyla gömüldü: {kayit_adi}\")\n",
    "                return"
   ]
  },
  {
   "cell_type": "code",
   "execution_count": null,
   "id": "20baba4c",
   "metadata": {},
   "outputs": [],
   "source": [
    "# Örnek kullanım\n",
    "mesaj = \"Bybit saldırısı başlatıldı.\"\n",
    "mesajı_gizle(\"A.png\", mesaj)"
   ]
  },
  {
   "cell_type": "markdown",
   "id": "5fd4c169",
   "metadata": {},
   "source": [
    "# 🧊 LSB Steganografi – Mesaj Çözme (Kolay Seviye)"
   ]
  },
  {
   "cell_type": "code",
   "execution_count": 7,
   "id": "2767d578",
   "metadata": {},
   "outputs": [],
   "source": [
    "from PIL import Image\n",
    "\n",
    "def mesajı_çöz(gorsel_yolu):\n",
    "    img = Image.open(gorsel_yolu)\n",
    "    if img.mode != 'RGB':\n",
    "        img = img.convert('RGB')\n",
    "    binary_data = \"\"\n",
    "    for y in range(img.size[1]):\n",
    "        for x in range(img.size[0]):\n",
    "            for color in img.getpixel((x, y)):\n",
    "                binary_data += str(color & 1)\n",
    "    byte_data = []\n",
    "    for i in range(0, len(binary_data), 8):\n",
    "        byte = binary_data[i:i+8]\n",
    "        if byte == '11111111' and binary_data[i+8:i+16] == '11111111':\n",
    "            break\n",
    "        byte_data.append(int(byte, 2))\n",
    "    try:\n",
    "        return bytes(byte_data).decode('utf-8')\n",
    "    except UnicodeDecodeError:\n",
    "        return \"[❌] Çözülen veri geçersiz karakterler içeriyor.\"\n"
   ]
  },
  {
   "cell_type": "code",
   "execution_count": null,
   "id": "41d0e372",
   "metadata": {},
   "outputs": [],
   "source": [
    "# Örnek kullanım\n",
    "print(mesajı_çöz(\"A_encoded_easy.png\"))"
   ]
  }
 ],
 "metadata": {
  "kernelspec": {
   "display_name": "Python 3",
   "language": "python",
   "name": "python3"
  },
  "language_info": {
   "codemirror_mode": {
    "name": "ipython",
    "version": 3
   },
   "file_extension": ".py",
   "mimetype": "text/x-python",
   "name": "python",
   "nbconvert_exporter": "python",
   "pygments_lexer": "ipython3",
   "version": "3.13.3"
  }
 },
 "nbformat": 4,
 "nbformat_minor": 5
}
