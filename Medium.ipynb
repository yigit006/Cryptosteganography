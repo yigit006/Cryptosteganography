{
 "cells": [
  {
   "cell_type": "markdown",
   "id": "91f4f8aa",
   "metadata": {},
   "source": [
    "# 🔐 XOR + LSB Steganography – Message Hiding (Medium Level - English)"
   ]
  },
  {
   "cell_type": "code",
   "execution_count": 1,
   "id": "e30e8a1d",
   "metadata": {},
   "outputs": [],
   "source": [
    "from PIL import Image\n",
    "\n",
    "def hide_xor_message(image_path, message, key, output_name=\"B_encoded_medium.png\"):\n",
    "    message_bytes = message.encode('utf-8')\n",
    "    key_bytes = key.encode('utf-8')\n",
    "    encrypted = bytes([b ^ key_bytes[i % len(key_bytes)] for i, b in enumerate(message_bytes)])\n",
    "    binary_msg = ''.join(format(b, '08b') for b in encrypted) + '1111111111111111'\n",
    "\n",
    "    img = Image.open(image_path)\n",
    "    if img.mode != 'RGB':\n",
    "        img = img.convert('RGB')\n",
    "    encoded = img.copy()\n",
    "    data_idx = 0\n",
    "    for y in range(encoded.size[1]):\n",
    "        for x in range(encoded.size[0]):\n",
    "            r, g, b = encoded.getpixel((x, y))\n",
    "            rgb = [r, g, b]\n",
    "            for i in range(3):\n",
    "                if data_idx < len(binary_msg):\n",
    "                    rgb[i] = (rgb[i] & ~1) | int(binary_msg[data_idx])\n",
    "                    data_idx += 1\n",
    "            encoded.putpixel((x, y), tuple(rgb))\n",
    "            if data_idx >= len(binary_msg):\n",
    "                encoded.save(output_name)\n",
    "                print(f\"[✓] Message successfully hidden in: {output_name}\")\n",
    "                return"
   ]
  },
  {
   "cell_type": "code",
   "execution_count": null,
   "id": "078c8c8a",
   "metadata": {},
   "outputs": [],
   "source": [
    "# Example usage\n",
    "message = \"Bybit attack has been initiated.\"\n",
    "key = \"secretkey\"\n",
    "hide_xor_message(\"B.png\", message, key)"
   ]
  },
  {
   "cell_type": "markdown",
   "id": "3a9ff2f1",
   "metadata": {},
   "source": [
    "# 🔓 XOR + LSB Steganography – Message Revealing (Medium Level - English)"
   ]
  },
  {
   "cell_type": "code",
   "execution_count": 3,
   "id": "94c96b51",
   "metadata": {},
   "outputs": [],
   "source": [
    "from PIL import Image\n",
    "\n",
    "def reveal_xor_message(image_path, key):\n",
    "    key_bytes = key.encode('utf-8')\n",
    "    img = Image.open(image_path)\n",
    "    if img.mode != 'RGB':\n",
    "        img = img.convert('RGB')\n",
    "    binary_data = \"\"\n",
    "    for y in range(img.size[1]):\n",
    "        for x in range(img.size[0]):\n",
    "            for color in img.getpixel((x, y)):\n",
    "                binary_data += str(color & 1)\n",
    "    byte_data = []\n",
    "    for i in range(0, len(binary_data), 8):\n",
    "        byte = binary_data[i:i+8]\n",
    "        if byte == '11111111' and binary_data[i+8:i+16] == '11111111':\n",
    "            break\n",
    "        byte_data.append(int(byte, 2))\n",
    "    encrypted = bytes(byte_data)\n",
    "    try:\n",
    "        return bytes([b ^ key_bytes[i % len(key_bytes)] for i, b in enumerate(encrypted)]).decode('utf-8')\n",
    "    except UnicodeDecodeError:\n",
    "        return \"[❌] Incorrect key or corrupted data.\""
   ]
  },
  {
   "cell_type": "code",
   "execution_count": null,
   "id": "4b1b67fc",
   "metadata": {},
   "outputs": [],
   "source": [
    "# Example usage\n",
    "key = \"secretkey\"\n",
    "print(reveal_xor_message(\"B_encoded_medium.png\", key))"
   ]
  }
 ],
 "metadata": {
  "kernelspec": {
   "display_name": "Python 3",
   "language": "python",
   "name": "python3"
  },
  "language_info": {
   "codemirror_mode": {
    "name": "ipython",
    "version": 3
   },
   "file_extension": ".py",
   "mimetype": "text/x-python",
   "name": "python",
   "nbconvert_exporter": "python",
   "pygments_lexer": "ipython3",
   "version": "3.13.3"
  }
 },
 "nbformat": 4,
 "nbformat_minor": 5
}
