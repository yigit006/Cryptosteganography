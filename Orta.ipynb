{
 "cells": [
  {
   "cell_type": "markdown",
   "id": "3336be44",
   "metadata": {},
   "source": [
    "# 🔐 XOR + LSB Steganografi – Mesaj Gizleme (String Anahtar Destekli)"
   ]
  },
  {
   "cell_type": "code",
   "execution_count": 1,
   "id": "1a8c022f",
   "metadata": {},
   "outputs": [],
   "source": [
    "from PIL import Image\n",
    "\n",
    "def xor_sifrele(mesaj, anahtar):\n",
    "    mesaj_bytes = mesaj.encode('utf-8')\n",
    "    anahtar_bytes = anahtar.encode('utf-8')\n",
    "    return bytes([b ^ anahtar_bytes[i % len(anahtar_bytes)] for i, b in enumerate(mesaj_bytes)])\n",
    "\n",
    "def xorlu_mesajı_gizle(gorsel_yolu, mesaj, anahtar, kayit_adi=\"B_encoded_medium.png\"):\n",
    "    sifreli = xor_sifrele(mesaj, anahtar)\n",
    "    binary_mesaj = ''.join(format(b, '08b') for b in sifreli) + '1111111111111111'\n",
    "\n",
    "    img = Image.open(gorsel_yolu)\n",
    "    if img.mode != 'RGB':\n",
    "        img = img.convert('RGB')\n",
    "\n",
    "    encoded = img.copy()\n",
    "    data_idx = 0\n",
    "\n",
    "    for y in range(encoded.size[1]):\n",
    "        for x in range(encoded.size[0]):\n",
    "            r, g, b = encoded.getpixel((x, y))\n",
    "            rgb = [r, g, b]\n",
    "            for i in range(3):\n",
    "                if data_idx < len(binary_mesaj):\n",
    "                    rgb[i] = (rgb[i] & ~1) | int(binary_mesaj[data_idx])\n",
    "                    data_idx += 1\n",
    "            encoded.putpixel((x, y), tuple(rgb))\n",
    "            if data_idx >= len(binary_mesaj):\n",
    "                encoded.save(kayit_adi)\n",
    "                print(f\"[✓] Mesaj başarıyla gömüldü: {kayit_adi}\")\n",
    "                return"
   ]
  },
  {
   "cell_type": "code",
   "execution_count": null,
   "id": "3ad77336",
   "metadata": {},
   "outputs": [],
   "source": [
    "# Örnek kullanım\n",
    "mesaj = \"Bybit saldırısı başlatıldı.\"\n",
    "anahtar = \"gizlimetin\"\n",
    "xorlu_mesajı_gizle(\"B.png\", mesaj, anahtar)"
   ]
  },
  {
   "cell_type": "markdown",
   "id": "2a9975d4",
   "metadata": {},
   "source": [
    "# 🔓 XOR + LSB Steganografi – Mesaj Çözme (Anahtar Doğrulama ile)"
   ]
  },
  {
   "cell_type": "code",
   "execution_count": 3,
   "id": "3013b669",
   "metadata": {},
   "outputs": [],
   "source": [
    "from PIL import Image\n",
    "\n",
    "def xor_coz(sifreli_bytes, anahtar):\n",
    "    anahtar_bytes = anahtar.encode('utf-8')\n",
    "    try:\n",
    "        return bytes([b ^ anahtar_bytes[i % len(anahtar_bytes)] for i, b in enumerate(sifreli_bytes)]).decode('utf-8')\n",
    "    except UnicodeDecodeError:\n",
    "        return \"[❌] Yanlış anahtar girildi veya mesaj bozulmuş.\"\n",
    "\n",
    "def xorlu_mesajı_çöz(gorsel_yolu, anahtar):\n",
    "    img = Image.open(gorsel_yolu)\n",
    "    if img.mode != 'RGB':\n",
    "        img = img.convert('RGB')\n",
    "\n",
    "    binary_data = \"\"\n",
    "    for y in range(img.size[1]):\n",
    "        for x in range(img.size[0]):\n",
    "            for color in img.getpixel((x, y)):\n",
    "                binary_data += str(color & 1)\n",
    "\n",
    "    byte_data = []\n",
    "    for i in range(0, len(binary_data), 8):\n",
    "        byte = binary_data[i:i+8]\n",
    "        if byte == '11111111' and binary_data[i+8:i+16] == '11111111':\n",
    "            break\n",
    "        byte_data.append(int(byte, 2))\n",
    "\n",
    "    sifreli_bytes = bytes(byte_data)\n",
    "    return xor_coz(sifreli_bytes, anahtar)"
   ]
  },
  {
   "cell_type": "code",
   "execution_count": null,
   "id": "e853cc78",
   "metadata": {},
   "outputs": [],
   "source": [
    "# Örnek çözüm\n",
    "anahtar = \"gizlimetin\"\n",
    "print(xorlu_mesajı_çöz(\"B_encoded_medium.png\", anahtar))"
   ]
  }
 ],
 "metadata": {
  "kernelspec": {
   "display_name": "Python 3",
   "language": "python",
   "name": "python3"
  },
  "language_info": {
   "codemirror_mode": {
    "name": "ipython",
    "version": 3
   },
   "file_extension": ".py",
   "mimetype": "text/x-python",
   "name": "python",
   "nbconvert_exporter": "python",
   "pygments_lexer": "ipython3",
   "version": "3.13.3"
  }
 },
 "nbformat": 4,
 "nbformat_minor": 5
}
