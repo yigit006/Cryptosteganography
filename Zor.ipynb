{
 "cells": [
  {
   "cell_type": "markdown",
   "id": "d2a62978",
   "metadata": {},
   "source": [
    "# 🔐 AES + LSB Steganografi – Mesaj Gizleme"
   ]
  },
  {
   "cell_type": "code",
   "execution_count": 1,
   "id": "c09c19db",
   "metadata": {},
   "outputs": [],
   "source": [
    "from PIL import Image\n",
    "from Crypto.Cipher import AES\n",
    "from Crypto.Random import get_random_bytes\n",
    "\n",
    "def aes_sifrele(mesaj):\n",
    "    key = get_random_bytes(32)  # AES-256 anahtarı\n",
    "    iv = get_random_bytes(12)   # 12 byte nonce (GCM için)\n",
    "    cipher = AES.new(key, AES.MODE_GCM, nonce=iv)\n",
    "    ciphertext, tag = cipher.encrypt_and_digest(mesaj.encode('utf-8'))\n",
    "    sifreli_veri = iv + tag + ciphertext\n",
    "    return key, sifreli_veri\n",
    "\n",
    "def aes_gom(gorsel_yolu, veri, kayit_adi=\"C_encoded_aes.png\"):\n",
    "    binary_veri = ''.join(format(b, '08b') for b in veri) + '1111111111111111'\n",
    "    img = Image.open(gorsel_yolu)\n",
    "    if img.mode != 'RGB':\n",
    "        img = img.convert('RGB')\n",
    "    encoded = img.copy()\n",
    "    data_idx = 0\n",
    "    for y in range(encoded.size[1]):\n",
    "        for x in range(encoded.size[0]):\n",
    "            r, g, b = encoded.getpixel((x, y))\n",
    "            rgb = [r, g, b]\n",
    "            for i in range(3):\n",
    "                if data_idx < len(binary_veri):\n",
    "                    rgb[i] = (rgb[i] & ~1) | int(binary_veri[data_idx])\n",
    "                    data_idx += 1\n",
    "            encoded.putpixel((x, y), tuple(rgb))\n",
    "            if data_idx >= len(binary_veri):\n",
    "                encoded.save(kayit_adi)\n",
    "                print(f\"[✓] Mesaj başarıyla AES ile şifrelenip gömüldü: {kayit_adi}\")\n",
    "                return"
   ]
  },
  {
   "cell_type": "code",
   "execution_count": null,
   "id": "f4676aee",
   "metadata": {},
   "outputs": [],
   "source": [
    "# Örnek kullanım\n",
    "mesaj = \"Bybit saldırısı başlatıldı.\"\n",
    "key, sifreli_veri = aes_sifrele(mesaj)\n",
    "aes_gom(\"C.png\", sifreli_veri)\n",
    "print(\"AES Anahtar (base64):\", key.hex())"
   ]
  },
  {
   "cell_type": "markdown",
   "id": "a17cd1d3",
   "metadata": {},
   "source": [
    "# 🔓 AES + LSB Steganografi – Mesaj Çözme"
   ]
  },
  {
   "cell_type": "code",
   "execution_count": 3,
   "id": "1143f214",
   "metadata": {},
   "outputs": [],
   "source": [
    "from PIL import Image\n",
    "from Crypto.Cipher import AES\n",
    "import binascii\n",
    "\n",
    "def aes_coz(gorsel_yolu, key_hex):\n",
    "    key = bytes.fromhex(key_hex)\n",
    "    img = Image.open(gorsel_yolu)\n",
    "    if img.mode != 'RGB':\n",
    "        img = img.convert('RGB')\n",
    "    binary_data = \"\"\n",
    "    for y in range(img.size[1]):\n",
    "        for x in range(img.size[0]):\n",
    "            for color in img.getpixel((x, y)):\n",
    "                binary_data += str(color & 1)\n",
    "    byte_data = []\n",
    "    for i in range(0, len(binary_data), 8):\n",
    "        byte = binary_data[i:i+8]\n",
    "        if byte == '11111111' and binary_data[i+8:i+16] == '11111111':\n",
    "            break\n",
    "        byte_data.append(int(byte, 2))\n",
    "    veri = bytes(byte_data)\n",
    "    iv, tag, ciphertext = veri[:12], veri[12:28], veri[28:]\n",
    "    cipher = AES.new(key, AES.MODE_GCM, nonce=iv)\n",
    "    try:\n",
    "        return cipher.decrypt_and_verify(ciphertext, tag).decode('utf-8')\n",
    "    except Exception:\n",
    "        return \"[❌] Anahtar hatalı veya veri bozulmuş.\"\n"
   ]
  },
  {
   "cell_type": "code",
   "execution_count": null,
   "id": "81047f64",
   "metadata": {},
   "outputs": [],
   "source": [
    "aes_coz(\"C_encoded_aes.png\", \"7b534294fe37841d1bc2018f8372139808c5f99e1ecc79a1132c3e6bc1b12c62\")"
   ]
  },
  {
   "cell_type": "code",
   "execution_count": null,
   "id": "f6a9f4c1",
   "metadata": {},
   "outputs": [],
   "source": [
    "# Örnek kullanım (AES anahtarı hex formatında girilmeli)\n",
    "# aes_coz(\"A_encoded_aes.png\", \"buraya_hex_anahtar\")"
   ]
  }
 ],
 "metadata": {
  "kernelspec": {
   "display_name": "Python 3",
   "language": "python",
   "name": "python3"
  },
  "language_info": {
   "codemirror_mode": {
    "name": "ipython",
    "version": 3
   },
   "file_extension": ".py",
   "mimetype": "text/x-python",
   "name": "python",
   "nbconvert_exporter": "python",
   "pygments_lexer": "ipython3",
   "version": "3.13.3"
  }
 },
 "nbformat": 4,
 "nbformat_minor": 5
}
